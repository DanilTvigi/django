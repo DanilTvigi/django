{
 "cells": [
  {
   "cell_type": "code",
   "execution_count": null,
   "id": "692cd52e-f0b3-4b17-855d-f765fdf241bc",
   "metadata": {},
   "outputs": [],
   "source": [
    "from analyse import Analyse\n",
    "import camera"
   ]
  },
  {
   "cell_type": "code",
   "execution_count": null,
   "id": "64b39407-47ce-43c4-bd3b-396f9239c853",
   "metadata": {},
   "outputs": [],
   "source": [
    "img = camera.get_img(\"10.2.31.25\",\"admin\",\"Skills39!\", True)\n",
    "tmp = bytes()\n",
    "for t in img:\n",
    "    tmp += t\n",
    "image = r'C:\\\\Users\\\\danil\\\\Desktop\\\\chess\\\\main\\\\images\\\\scrreen.jpg'\n",
    "\n",
    "file = open(\"scrreen.jpg\", \"wb\")\n",
    "file.write(tmp)\n",
    "file.close()\n",
    "\n",
    "image = 'scrreen.jpg'\n",
    "temp1 = 'template_edge1.jpg'\n",
    "temp2 = 'template_edge2.jpg'\n",
    "\n",
    "# Analyse.step(image, temp1, temp2)\n",
    "Analyse.step(image)"
   ]
  }
 ],
 "metadata": {
  "kernelspec": {
   "display_name": "Python 3 (ipykernel)",
   "language": "python",
   "name": "python3"
  },
  "language_info": {
   "codemirror_mode": {
    "name": "ipython",
    "version": 3
   },
   "file_extension": ".py",
   "mimetype": "text/x-python",
   "name": "python",
   "nbconvert_exporter": "python",
   "pygments_lexer": "ipython3",
   "version": "3.7.3"
  }
 },
 "nbformat": 4,
 "nbformat_minor": 5
}
